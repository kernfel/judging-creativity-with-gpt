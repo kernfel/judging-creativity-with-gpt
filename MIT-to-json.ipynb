{
 "cells": [
  {
   "cell_type": "code",
   "execution_count": 1,
   "metadata": {},
   "outputs": [],
   "source": [
    "import pandas as pd\n",
    "import json\n",
    "from functools import reduce"
   ]
  },
  {
   "cell_type": "code",
   "execution_count": 2,
   "metadata": {},
   "outputs": [
    {
     "data": {
      "text/html": [
       "<div>\n",
       "<style scoped>\n",
       "    .dataframe tbody tr th:only-of-type {\n",
       "        vertical-align: middle;\n",
       "    }\n",
       "\n",
       "    .dataframe tbody tr th {\n",
       "        vertical-align: top;\n",
       "    }\n",
       "\n",
       "    .dataframe thead th {\n",
       "        text-align: right;\n",
       "    }\n",
       "</style>\n",
       "<table border=\"1\" class=\"dataframe\">\n",
       "  <thead>\n",
       "    <tr style=\"text-align: right;\">\n",
       "      <th></th>\n",
       "      <th>Participant #</th>\n",
       "      <th>MIT_Question_no</th>\n",
       "      <th>Item_1</th>\n",
       "      <th>Item_2</th>\n",
       "      <th>Goal</th>\n",
       "      <th>FeedBack_question_1</th>\n",
       "      <th>FeedBack_question_2</th>\n",
       "      <th>FeedBack_question_3</th>\n",
       "      <th>Time_left</th>\n",
       "      <th>Answer</th>\n",
       "      <th>both_items_included</th>\n",
       "    </tr>\n",
       "  </thead>\n",
       "  <tbody>\n",
       "    <tr>\n",
       "      <th>0</th>\n",
       "      <td>WEB8c0e84-06d0-f0e-06a8-77141c7bc46</td>\n",
       "      <td>1-01</td>\n",
       "      <td>デジタルカメラ</td>\n",
       "      <td>塗り絵本</td>\n",
       "      <td>個人の創造性と表現を培う</td>\n",
       "      <td>Y</td>\n",
       "      <td>Y</td>\n",
       "      <td>Y</td>\n",
       "      <td>-1</td>\n",
       "      <td>塗り絵本で塗った絵をデジタルカメラで取り込み、さまざまな加工ができるアプリを介して絵を色々な...</td>\n",
       "      <td>3</td>\n",
       "    </tr>\n",
       "  </tbody>\n",
       "</table>\n",
       "</div>"
      ],
      "text/plain": [
       "                         Participant # MIT_Question_no   Item_1 Item_2   \n",
       "0  WEB8c0e84-06d0-f0e-06a8-77141c7bc46            1-01  デジタルカメラ   塗り絵本  \\\n",
       "\n",
       "           Goal FeedBack_question_1 FeedBack_question_2 FeedBack_question_3   \n",
       "0  個人の創造性と表現を培う                   Y                   Y                   Y  \\\n",
       "\n",
       "   Time_left                                             Answer   \n",
       "0         -1  塗り絵本で塗った絵をデジタルカメラで取り込み、さまざまな加工ができるアプリを介して絵を色々な...  \\\n",
       "\n",
       "   both_items_included  \n",
       "0                    3  "
      ]
     },
     "execution_count": 2,
     "metadata": {},
     "output_type": "execute_result"
    }
   ],
   "source": [
    "answer_data = pd.read_excel('MitAut_20231222_element-use.xlsx', index_col=0)\n",
    "answer_data[:1]"
   ]
  },
  {
   "cell_type": "code",
   "execution_count": 3,
   "metadata": {},
   "outputs": [],
   "source": [
    "criteria = {\n",
    "    'elements_used': answer_data['both_items_included']==3,\n",
    "    'answer_complete': (answer_data['FeedBack_question_3']=='Y') | (answer_data['Time_left']<0),\n",
    "    'problem_understood': (answer_data['FeedBack_question_1']=='Y') & (answer_data['FeedBack_question_2']=='Y'),\n",
    "}\n",
    "criteria['all'] = reduce(lambda x,y: x&y, criteria.values())\n",
    "filtered_answers = answer_data[criteria['all']]"
   ]
  },
  {
   "cell_type": "code",
   "execution_count": 4,
   "metadata": {},
   "outputs": [
    {
     "name": "stdout",
     "output_type": "stream",
     "text": [
      "elements_used 0.9369747899159664\n",
      "answer_complete 0.900775694893342\n",
      "problem_understood 0.7889463477698772\n",
      "all 0.6832579185520362\n"
     ]
    }
   ],
   "source": [
    "for key, mask in criteria.items():\n",
    "    print(key, mask.mean())"
   ]
  },
  {
   "cell_type": "code",
   "execution_count": 5,
   "metadata": {},
   "outputs": [
    {
     "data": {
      "text/html": [
       "<div>\n",
       "<style scoped>\n",
       "    .dataframe tbody tr th:only-of-type {\n",
       "        vertical-align: middle;\n",
       "    }\n",
       "\n",
       "    .dataframe tbody tr th {\n",
       "        vertical-align: top;\n",
       "    }\n",
       "\n",
       "    .dataframe thead th {\n",
       "        text-align: right;\n",
       "    }\n",
       "</style>\n",
       "<table border=\"1\" class=\"dataframe\">\n",
       "  <thead>\n",
       "    <tr style=\"text-align: right;\">\n",
       "      <th></th>\n",
       "      <th>Item1</th>\n",
       "      <th>Item2</th>\n",
       "      <th>Goal</th>\n",
       "      <th>Novel solution</th>\n",
       "      <th>NOT novel solutions</th>\n",
       "      <th>Unnamed: 6</th>\n",
       "      <th>Unnamed: 7</th>\n",
       "    </tr>\n",
       "    <tr>\n",
       "      <th>Q_no</th>\n",
       "      <th></th>\n",
       "      <th></th>\n",
       "      <th></th>\n",
       "      <th></th>\n",
       "      <th></th>\n",
       "      <th></th>\n",
       "      <th></th>\n",
       "    </tr>\n",
       "  </thead>\n",
       "  <tbody>\n",
       "    <tr>\n",
       "      <th>1-01</th>\n",
       "      <td>Digital Camera</td>\n",
       "      <td>Coloring Book</td>\n",
       "      <td>Foster personal creativity and expression</td>\n",
       "      <td>Develop a digital camera that converts photos ...</td>\n",
       "      <td>Take photos with a digital camera and use them...</td>\n",
       "      <td>ok</td>\n",
       "      <td>NaN</td>\n",
       "    </tr>\n",
       "  </tbody>\n",
       "</table>\n",
       "</div>"
      ],
      "text/plain": [
       "               Item1          Item2   \n",
       "Q_no                                  \n",
       "1-01  Digital Camera  Coloring Book  \\\n",
       "\n",
       "                                           Goal   \n",
       "Q_no                                              \n",
       "1-01  Foster personal creativity and expression  \\\n",
       "\n",
       "                                         Novel solution   \n",
       "Q_no                                                      \n",
       "1-01  Develop a digital camera that converts photos ...  \\\n",
       "\n",
       "                                    NOT novel solutions Unnamed: 6 Unnamed: 7  \n",
       "Q_no                                                                           \n",
       "1-01  Take photos with a digital camera and use them...         ok        NaN  "
      ]
     },
     "execution_count": 5,
     "metadata": {},
     "output_type": "execute_result"
    }
   ],
   "source": [
    "novelty_checks = pd.read_excel('Sanity_check_solutions_template.xlsx', 'Novelty', index_col=0)\n",
    "novelty_checks[:1]"
   ]
  },
  {
   "cell_type": "code",
   "execution_count": 6,
   "metadata": {},
   "outputs": [
    {
     "data": {
      "text/html": [
       "<div>\n",
       "<style scoped>\n",
       "    .dataframe tbody tr th:only-of-type {\n",
       "        vertical-align: middle;\n",
       "    }\n",
       "\n",
       "    .dataframe tbody tr th {\n",
       "        vertical-align: top;\n",
       "    }\n",
       "\n",
       "    .dataframe thead th {\n",
       "        text-align: right;\n",
       "    }\n",
       "</style>\n",
       "<table border=\"1\" class=\"dataframe\">\n",
       "  <thead>\n",
       "    <tr style=\"text-align: right;\">\n",
       "      <th></th>\n",
       "      <th>Item1</th>\n",
       "      <th>Item2</th>\n",
       "      <th>Goal</th>\n",
       "      <th>Feasible solution</th>\n",
       "      <th>NOT feasible solutions</th>\n",
       "      <th>Unnamed: 6</th>\n",
       "      <th>Unnamed: 7</th>\n",
       "    </tr>\n",
       "    <tr>\n",
       "      <th>Q_no</th>\n",
       "      <th></th>\n",
       "      <th></th>\n",
       "      <th></th>\n",
       "      <th></th>\n",
       "      <th></th>\n",
       "      <th></th>\n",
       "      <th></th>\n",
       "    </tr>\n",
       "  </thead>\n",
       "  <tbody>\n",
       "    <tr>\n",
       "      <th>1-01</th>\n",
       "      <td>Digital Camera</td>\n",
       "      <td>Coloring Book</td>\n",
       "      <td>Foster personal creativity and expression</td>\n",
       "      <td>Create a digital camera feature that converts ...</td>\n",
       "      <td>Invent a digital camera that captures the mood...</td>\n",
       "      <td>ok</td>\n",
       "      <td>NaN</td>\n",
       "    </tr>\n",
       "  </tbody>\n",
       "</table>\n",
       "</div>"
      ],
      "text/plain": [
       "               Item1          Item2   \n",
       "Q_no                                  \n",
       "1-01  Digital Camera  Coloring Book  \\\n",
       "\n",
       "                                           Goal   \n",
       "Q_no                                              \n",
       "1-01  Foster personal creativity and expression  \\\n",
       "\n",
       "                                      Feasible solution   \n",
       "Q_no                                                      \n",
       "1-01  Create a digital camera feature that converts ...  \\\n",
       "\n",
       "                                 NOT feasible solutions Unnamed: 6 Unnamed: 7  \n",
       "Q_no                                                                           \n",
       "1-01  Invent a digital camera that captures the mood...         ok        NaN  "
      ]
     },
     "execution_count": 6,
     "metadata": {},
     "output_type": "execute_result"
    }
   ],
   "source": [
    "feasibility_checks = pd.read_excel('Sanity_check_solutions_template.xlsx', 'Feasibility', index_col=0)\n",
    "feasibility_checks[:1]"
   ]
  },
  {
   "cell_type": "code",
   "execution_count": 7,
   "metadata": {},
   "outputs": [],
   "source": [
    "thelist = []\n",
    "for id in filtered_answers['MIT_Question_no'].unique():\n",
    "    qrows = filtered_answers[filtered_answers['MIT_Question_no'] == id]\n",
    "    \n",
    "    # Compensate for goal heterogeneity\n",
    "    goal_n = 0\n",
    "    for agoal in qrows['Goal'].unique():\n",
    "        n = (qrows['Goal']==agoal).sum()\n",
    "        if n > goal_n:\n",
    "            goal = agoal\n",
    "            goal_n = n\n",
    "\n",
    "    thedict = {\n",
    "        'id': id,\n",
    "        'item1': qrows['Item_1'].iloc[0],\n",
    "        'item2': qrows['Item_2'].iloc[0],\n",
    "        'goal': goal,\n",
    "        'answers': qrows['Answer'].to_list(),\n",
    "        'sanity_checks': {\n",
    "            'novelty': {\n",
    "                'winner': novelty_checks.loc[id, 'Novel solution'],\n",
    "                'loser': novelty_checks.loc[id, 'NOT novel solutions']\n",
    "            },\n",
    "            'feasibility': {\n",
    "                'winner': feasibility_checks.loc[id, 'Feasible solution'],\n",
    "                'loser': feasibility_checks.loc[id, 'NOT feasible solutions']\n",
    "            }\n",
    "        }\n",
    "    }\n",
    "    thelist.append(thedict)"
   ]
  },
  {
   "cell_type": "code",
   "execution_count": 8,
   "metadata": {},
   "outputs": [],
   "source": [
    "with open('MIT-inputs-to-elo.json', 'w', encoding='utf-8') as thefile:\n",
    "    json.dump(thelist, thefile, ensure_ascii=False, indent=1)\n",
    "    thefile.write('\\n')"
   ]
  }
 ],
 "metadata": {
  "kernelspec": {
   "display_name": "ikeda",
   "language": "python",
   "name": "python3"
  },
  "language_info": {
   "codemirror_mode": {
    "name": "ipython",
    "version": 3
   },
   "file_extension": ".py",
   "mimetype": "text/x-python",
   "name": "python",
   "nbconvert_exporter": "python",
   "pygments_lexer": "ipython3",
   "version": "3.10.12"
  }
 },
 "nbformat": 4,
 "nbformat_minor": 2
}
