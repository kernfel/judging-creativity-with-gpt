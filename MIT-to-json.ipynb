{
 "cells": [
  {
   "cell_type": "code",
   "execution_count": null,
   "metadata": {},
   "outputs": [],
   "source": [
    "import pandas as pd\n",
    "import json"
   ]
  },
  {
   "cell_type": "code",
   "execution_count": null,
   "metadata": {},
   "outputs": [],
   "source": [
    "answer_data = pd.read_excel('MitAut_20231219_GPT-element-use.xlsx', index_col=0)"
   ]
  },
  {
   "cell_type": "code",
   "execution_count": null,
   "metadata": {},
   "outputs": [],
   "source": [
    "questions = answer_data[['MIT_Question_no', 'Item_1', 'Item_2', 'Goal']].drop_duplicates().sort_values('MIT_Question_no')\n",
    "thelist = []\n",
    "for _, row in questions.iterrows():\n",
    "    thedict = {\n",
    "        'id': row['MIT_Question_no'],\n",
    "        'item1': row['Item_1'],\n",
    "        'item2': row['Item_2'],\n",
    "        'goal': row['Goal'],\n",
    "        'answers': answer_data[answer_data['MIT_Question_no'] == row['MIT_Question_no']]['Answer'].to_list(),\n",
    "        'sanity_winner': '',\n",
    "        'sanity_loser': ''}\n",
    "    thelist.append(thedict)"
   ]
  },
  {
   "cell_type": "code",
   "execution_count": null,
   "metadata": {},
   "outputs": [],
   "source": [
    "with open('MIT-inputs-to-elo.json', 'w', encoding='utf-8') as thefile:\n",
    "    json.dump(thelist, thefile)"
   ]
  }
 ],
 "metadata": {
  "kernelspec": {
   "display_name": "ikeda",
   "language": "python",
   "name": "python3"
  },
  "language_info": {
   "codemirror_mode": {
    "name": "ipython",
    "version": 3
   },
   "file_extension": ".py",
   "mimetype": "text/x-python",
   "name": "python",
   "nbconvert_exporter": "python",
   "pygments_lexer": "ipython3",
   "version": "3.10.12"
  }
 },
 "nbformat": 4,
 "nbformat_minor": 2
}
